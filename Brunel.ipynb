{
    "metadata": {
        "kernelspec": {
            "name": "python2-spark21", 
            "display_name": "Python 2 with Spark 2.1", 
            "language": "python"
        }, 
        "language_info": {
            "file_extension": ".py", 
            "nbconvert_exporter": "python", 
            "codemirror_mode": {
                "version": 2, 
                "name": "ipython"
            }, 
            "version": "2.7.11", 
            "mimetype": "text/x-python", 
            "name": "python", 
            "pygments_lexer": "ipython2"
        }
    }, 
    "cells": [
        {
            "metadata": {}, 
            "cell_type": "markdown", 
            "source": "Brunel Documentation:\nhttp://brunel.mybluemix.net/docs/\n\nBrunel Blog:\nhttps://brunelvis.org/\n\n\n# Step1: Load libraries and data\n"
        }, 
        {
            "metadata": {}, 
            "cell_type": "code", 
            "outputs": [], 
            "execution_count": null, 
            "source": "import brunel"
        }, 
        {
            "metadata": {}, 
            "cell_type": "markdown", 
            "source": "insert data from DSX as pandas DataFrame:"
        }, 
        {
            "metadata": {}, 
            "cell_type": "code", 
            "outputs": [], 
            "execution_count": null, 
            "source": "# The code was removed by DSX for sharing."
        }, 
        {
            "metadata": {
                "scrolled": true
            }, 
            "cell_type": "code", 
            "outputs": [], 
            "execution_count": null, 
            "source": "cars.sample(5)"
        }, 
        {
            "metadata": {}, 
            "cell_type": "code", 
            "outputs": [], 
            "execution_count": null, 
            "source": "cars.count()"
        }, 
        {
            "metadata": {}, 
            "cell_type": "markdown", 
            "source": "# Step 2: Now Let's Visualize the Data with Brunel\n"
        }, 
        {
            "metadata": {}, 
            "cell_type": "markdown", 
            "source": "a simple one:\ndisplay the consumption of cars depending on:\n - origin\n - horsepower\n - year\n \n cheatsheet:\n \n \n ``color(origin) tooltip(#all, name, year)``\n ``legends(auto) :: width=1200, height=400``\n ``filter(origin, horsepower, year, mpg)``\n \n ``animate(year:10,speed:1000) ``- add simple animations \n \n http://hanabi.autoweek.com/sites/default/files/styles/gen-932-524/public/130919902.jpg?itok=7SALkHg4\n \n mpg into l/100km :  100/(mpg*1,60934/3,78541)\n "
        }, 
        {
            "metadata": {}, 
            "cell_type": "code", 
            "outputs": [], 
            "execution_count": null, 
            "source": "%%brunel \ndata('cars')\n\nx(mpg) y(horsepower) \n   "
        }, 
        {
            "metadata": {}, 
            "cell_type": "markdown", 
            "source": "another standard one: bar diagram\ndisplay the mean consumption of cars depending on:\n - origin\n - horsepower\n - year\n \n cheatsheet:\n \n ``sort(mpg:descending) `` - sorting\n \n ``bin(horsepower)``- for bucketing data\n \n ``interaction(select)| interaction(filter) `` - combine multiple visualizations\n"
        }, 
        {
            "metadata": {}, 
            "cell_type": "code", 
            "outputs": [], 
            "execution_count": null, 
            "source": "%%brunel \ndata('cars')\nbar\n\nx(origin)\ny(mpg)\nmean(mpg)\ncolor(origin)\ntooltip(#all, #count)\naxes(x:grid, y:grid)\n\n     "
        }, 
        {
            "metadata": {}, 
            "cell_type": "markdown", 
            "source": "what if we wanted to see at a glance the distribution of consumtion per year/origin/horsepower\n\ncheatsheet:\n\n``bin(horsepower)``\n"
        }, 
        {
            "metadata": {}, 
            "cell_type": "code", 
            "outputs": [], 
            "execution_count": null, 
            "source": "%%brunel\ndata('cars') \n\npath \n\nx(mpg) \ny(origin) \ncolor(origin) \n\nsize(#count)\ntooltip(#all)\nlegends(auto) :: width=1000, height=600 \n  "
        }, 
        {
            "metadata": {}, 
            "cell_type": "markdown", 
            "source": "### Let's add some more advances ones\n- chord\n\n- bubble\n- tree\n- treemap\n- network/graph\n\n\ncheatsheet:\n\n\n``label(#count,' mpg:', mpg) ``\n``interaction(select:click)``\n``opacity(#selection)``\n\n"
        }, 
        {
            "metadata": {}, 
            "cell_type": "code", 
            "outputs": [], 
            "execution_count": null, 
            "source": "%%brunel \ndata('cars') \nchord\n\nx(origin)\ny(year)\ntooltip(#all, #count)\nsize(#count)\nlegends(none)\ncolor(origin) :: height=800\n"
        }, 
        {
            "metadata": {}, 
            "cell_type": "markdown", 
            "source": "### Bubble\n\ncheatsheet:\n\n``treemap x(origin)``\n``effect(enter:2000)``\n"
        }, 
        {
            "metadata": {}, 
            "cell_type": "code", 
            "outputs": [], 
            "execution_count": null, 
            "source": "%%brunel \ndata('cars') \nbubble\n\nsize(#count)\nsort(#count:descending) \ncolor(mpg) \nlabel(origin:1,' #',#count, ' Mpg:', mpg)\nstyle('.label {fill:#3c3c99;}')\ntooltip(#all) :: height=600\n\n\n\n    \n "
        }, 
        {
            "metadata": {}, 
            "cell_type": "markdown", 
            "source": "### Graph Network Visualization"
        }, 
        {
            "metadata": {}, 
            "cell_type": "code", 
            "outputs": [], 
            "execution_count": null, 
            "source": "import numpy as np\n\nnodesArray = np.array([['a',4],['b',2],['c',2],['d',1],['e',1]])\nedgesArray = np.array([['a','b'],['a','c'], ['c','a'],['a','d'],['b','c'],['a','e']])\n\nnodes = pd.DataFrame(nodesArray, columns=['nodename', 'weight'])\nedges = pd.DataFrame(edgesArray, columns=['src','dest'])\n"
        }, 
        {
            "metadata": {}, 
            "cell_type": "code", 
            "outputs": [], 
            "execution_count": null, 
            "source": "%%brunel \ndata('edges') \nkey(src,dest) edge + data('nodes') \n           \nnetwork\n\ncolor(nodename)\nkey(nodename)  \nlabel(nodename, '(',weight,')')\nsize(weight)\ntooltip(#all, weight)\n\nstyle('size:30px;')\n    \nlegends(auto) :: width=1200, height=400"
        }, 
        {
            "metadata": {}, 
            "cell_type": "markdown", 
            "source": "###  Other Examples"
        }, 
        {
            "metadata": {}, 
            "cell_type": "code", 
            "outputs": [], 
            "execution_count": null, 
            "source": "%%brunel \n\ndata('http://brunelvis.org/data/DoctorWhoVillains.csv')  \nbubble \ncolor(Motivation_Short) size(Episodes) \nsort(First:ascending) \nlabel(Villain) tooltip(Villain, motivation_long, titles) at(0, 0, 60, 60) \nstyle('* {font-size: 7pt}') | \n\ndata('http://brunelvis.org/data/DoctorWhoVillains.csv') \ncloud \n\nx(Villain) color(motivation_short) size(LogStories) \nsort(first:ascending) top(episodes:80) at(40, 0, 100, 55) \nstyle(':nth-child(odd) { font-family:Impact;font-style:normal') \nstyle(':nth-child(even) { font-family:Times; font-style:italic') \nstyle('font-size:100px') | \n\n\n\ndata('http://brunelvis.org/data/DoctorWhoVillains.csv') \npoint\nx(motivation_short) y(first) color(episodes:gray) \nsort(episodes) label(villain) tooltip(titles) \nbin(first:5) sum(episodes) mode(villain) \nlist(titles) legends(none) at(0, 60, 100, 100) style('label-location:box')\n\n\n:: width=800, height=800"
        }, 
        {
            "metadata": {}, 
            "cell_type": "code", 
            "outputs": [], 
            "execution_count": null, 
            "source": "%%brunel \ndata('cars')\nstack polar bar  \ny(#count) \ncolor(origin) legends(none) label(origin, ', ', #count, ' cars')\n    \n       "
        }, 
        {
            "metadata": {}, 
            "cell_type": "code", 
            "outputs": [], 
            "execution_count": null, 
            "source": "%%brunel\nmap('france', 'germany')"
        }, 
        {
            "metadata": {}, 
            "cell_type": "code", 
            "outputs": [], 
            "execution_count": null, 
            "source": ""
        }
    ], 
    "nbformat_minor": 1, 
    "nbformat": 4
}